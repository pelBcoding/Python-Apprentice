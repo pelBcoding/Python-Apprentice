{
 "cells": [
  {
   "cell_type": "markdown",
   "id": "539e9340",
   "metadata": {},
   "source": [
    "# For Loop Gauntlet\n",
    "\n",
    "The goal of this assignment is to make you a master of utilizing for loops.\n",
    "Complete all the for loop challenges on the paper. please read each challenge\n",
    "carefully and make sure that your for loops display exactly what is asked. If\n",
    "you finish them all, try the bonus challenge.\n",
    "\n",
    "## Single for-loops\n",
    "\n",
    "Write a for loop to do each the following\n"
   ]
  },
  {
   "cell_type": "markdown",
   "id": "d0b568dc",
   "metadata": {
    "lines_to_next_cell": 0
   },
   "source": [
    "Display all numbers from 0 to 100  "
   ]
  },
  {
   "cell_type": "code",
   "execution_count": 3,
   "id": "d0752dd4",
   "metadata": {
    "title": "[python]"
   },
   "outputs": [
    {
     "name": "stdout",
     "output_type": "stream",
     "text": [
      "[0, 1, 2, 3, 4, 5, 6, 7, 8, 9, 10, 11, 12, 13, 14, 15, 16, 17, 18, 19, 20, 21, 22, 23, 24, 25, 26, 27, 28, 29, 30, 31, 32, 33, 34, 35, 36, 37, 38, 39, 40, 41, 42, 43, 44, 45, 46, 47, 48, 49, 50, 51, 52, 53, 54, 55, 56, 57, 58, 59, 60, 61, 62, 63, 64, 65, 66, 67, 68, 69, 70, 71, 72, 73, 74, 75, 76, 77, 78, 79, 80, 81, 82, 83, 84, 85, 86, 87, 88, 89, 90, 91, 92, 93, 94, 95, 96, 97, 98, 99, 100]\n"
     ]
    }
   ],
   "source": [
    "# Display all numbers from 0 to 100 \n",
    "\n",
    "for i in range(1):\n",
    "    print(list(range(101)))"
   ]
  },
  {
   "cell_type": "markdown",
   "id": "8b92e611",
   "metadata": {
    "lines_to_next_cell": 0
   },
   "source": [
    "Display all numbers from 100 to 0  "
   ]
  },
  {
   "cell_type": "code",
   "execution_count": 7,
   "id": "aec8cf23",
   "metadata": {
    "title": "[python]"
   },
   "outputs": [
    {
     "name": "stdout",
     "output_type": "stream",
     "text": [
      "[100, 99, 98, 97, 96, 95, 94, 93, 92, 91, 90, 89, 88, 87, 86, 85, 84, 83, 82, 81, 80, 79, 78, 77, 76, 75, 74, 73, 72, 71, 70, 69, 68, 67, 66, 65, 64, 63, 62, 61, 60, 59, 58, 57, 56, 55, 54, 53, 52, 51, 50, 49, 48, 47, 46, 45, 44, 43, 42, 41, 40, 39, 38, 37, 36, 35, 34, 33, 32, 31, 30, 29, 28, 27, 26, 25, 24, 23, 22, 21, 20, 19, 18, 17, 16, 15, 14, 13, 12, 11, 10, 9, 8, 7, 6, 5, 4, 3, 2, 1, 0]\n"
     ]
    }
   ],
   "source": [
    "# Display all numbers from 100 to 0 \n",
    "for i in range(1):\n",
    "    print(list(range(101))[::-1])\n"
   ]
  },
  {
   "cell_type": "markdown",
   "id": "a5c0e4ab",
   "metadata": {},
   "source": []
  },
  {
   "cell_type": "markdown",
   "id": "8942605e",
   "metadata": {
    "lines_to_next_cell": 0
   },
   "source": [
    "Display all even numbers from 2 to 100  "
   ]
  },
  {
   "cell_type": "code",
   "execution_count": 8,
   "id": "ed3d8616",
   "metadata": {
    "lines_to_next_cell": 0,
    "title": "[python]"
   },
   "outputs": [
    {
     "name": "stdout",
     "output_type": "stream",
     "text": [
      "[0, 2, 4, 6, 8, 10, 12, 14, 16, 18, 20, 22, 24, 26, 28, 30, 32, 34, 36, 38, 40, 42, 44, 46, 48, 50, 52, 54, 56, 58, 60, 62, 64, 66, 68, 70, 72, 74, 76, 78, 80, 82, 84, 86, 88, 90, 92, 94, 96, 98, 100]\n"
     ]
    }
   ],
   "source": [
    "# Display all even numbers from 2 to 100  \n",
    "for i in range(1):\n",
    "    print(list(range(101))[::2])"
   ]
  },
  {
   "cell_type": "markdown",
   "id": "c3501380",
   "metadata": {
    "lines_to_next_cell": 0
   },
   "source": [
    "Display all odd numbers from 1 to 99  "
   ]
  },
  {
   "cell_type": "code",
   "execution_count": 12,
   "id": "038f48bf",
   "metadata": {
    "lines_to_next_cell": 0,
    "title": "[python]"
   },
   "outputs": [
    {
     "name": "stdout",
     "output_type": "stream",
     "text": [
      "1\n",
      "3\n",
      "5\n",
      "7\n",
      "9\n",
      "11\n",
      "13\n",
      "15\n",
      "17\n",
      "19\n",
      "21\n",
      "23\n",
      "25\n",
      "27\n",
      "29\n",
      "31\n",
      "33\n",
      "35\n",
      "37\n",
      "39\n",
      "41\n",
      "43\n",
      "45\n",
      "47\n",
      "49\n",
      "51\n",
      "53\n",
      "55\n",
      "57\n",
      "59\n",
      "61\n",
      "63\n",
      "65\n",
      "67\n",
      "69\n",
      "71\n",
      "73\n",
      "75\n",
      "77\n",
      "79\n",
      "81\n",
      "83\n",
      "85\n",
      "87\n",
      "89\n",
      "91\n",
      "93\n",
      "95\n",
      "97\n",
      "99\n"
     ]
    }
   ],
   "source": [
    "# Display all odd numbers from 1 to 99  \n",
    "for i in range(101):\n",
    "    if i % 2 == 1:\n",
    "        print(i)"
   ]
  },
  {
   "cell_type": "markdown",
   "id": "f750c8e2",
   "metadata": {
    "lines_to_next_cell": 0
   },
   "source": [
    "Display all numbers from 1 to 40. if the number is odd, print \"odd\" next to the number. if the number is even, print \"even\" next to the number.  \n",
    "eg:  \n",
    " 1 is odd  \n",
    " 2 is even  \n",
    " 3 is odd  \n",
    " 4 is even  \n",
    " 5 is odd...etc.  \n",
    "\n"
   ]
  },
  {
   "cell_type": "code",
   "execution_count": 13,
   "id": "174bdcd9",
   "metadata": {},
   "outputs": [
    {
     "name": "stdout",
     "output_type": "stream",
     "text": [
      "0 even\n",
      "1 odd\n",
      "2 even\n",
      "3 odd\n",
      "4 even\n",
      "5 odd\n",
      "6 even\n",
      "7 odd\n",
      "8 even\n",
      "9 odd\n",
      "10 even\n",
      "11 odd\n",
      "12 even\n",
      "13 odd\n",
      "14 even\n",
      "15 odd\n",
      "16 even\n",
      "17 odd\n",
      "18 even\n",
      "19 odd\n",
      "20 even\n",
      "21 odd\n",
      "22 even\n",
      "23 odd\n",
      "24 even\n",
      "25 odd\n",
      "26 even\n",
      "27 odd\n",
      "28 even\n",
      "29 odd\n",
      "30 even\n",
      "31 odd\n",
      "32 even\n",
      "33 odd\n",
      "34 even\n",
      "35 odd\n",
      "36 even\n",
      "37 odd\n",
      "38 even\n",
      "39 odd\n",
      "40 even\n",
      "41 odd\n",
      "42 even\n",
      "43 odd\n",
      "44 even\n",
      "45 odd\n",
      "46 even\n",
      "47 odd\n",
      "48 even\n",
      "49 odd\n",
      "50 even\n",
      "51 odd\n",
      "52 even\n",
      "53 odd\n",
      "54 even\n",
      "55 odd\n",
      "56 even\n",
      "57 odd\n",
      "58 even\n",
      "59 odd\n",
      "60 even\n",
      "61 odd\n",
      "62 even\n",
      "63 odd\n",
      "64 even\n",
      "65 odd\n",
      "66 even\n",
      "67 odd\n",
      "68 even\n",
      "69 odd\n",
      "70 even\n",
      "71 odd\n",
      "72 even\n",
      "73 odd\n",
      "74 even\n",
      "75 odd\n",
      "76 even\n",
      "77 odd\n",
      "78 even\n",
      "79 odd\n",
      "80 even\n",
      "81 odd\n",
      "82 even\n",
      "83 odd\n",
      "84 even\n",
      "85 odd\n",
      "86 even\n",
      "87 odd\n",
      "88 even\n",
      "89 odd\n",
      "90 even\n",
      "91 odd\n",
      "92 even\n",
      "93 odd\n",
      "94 even\n",
      "95 odd\n",
      "96 even\n",
      "97 odd\n",
      "98 even\n",
      "99 odd\n",
      "100 even\n",
      "101 odd\n",
      "102 even\n",
      "103 odd\n",
      "104 even\n",
      "105 odd\n",
      "106 even\n",
      "107 odd\n",
      "108 even\n",
      "109 odd\n",
      "110 even\n",
      "111 odd\n",
      "112 even\n",
      "113 odd\n",
      "114 even\n",
      "115 odd\n",
      "116 even\n",
      "117 odd\n",
      "118 even\n",
      "119 odd\n",
      "120 even\n",
      "121 odd\n",
      "122 even\n",
      "123 odd\n",
      "124 even\n",
      "125 odd\n",
      "126 even\n",
      "127 odd\n",
      "128 even\n",
      "129 odd\n",
      "130 even\n",
      "131 odd\n",
      "132 even\n",
      "133 odd\n",
      "134 even\n",
      "135 odd\n",
      "136 even\n",
      "137 odd\n",
      "138 even\n",
      "139 odd\n",
      "140 even\n",
      "141 odd\n",
      "142 even\n",
      "143 odd\n",
      "144 even\n",
      "145 odd\n",
      "146 even\n",
      "147 odd\n",
      "148 even\n",
      "149 odd\n",
      "150 even\n",
      "151 odd\n",
      "152 even\n",
      "153 odd\n",
      "154 even\n",
      "155 odd\n",
      "156 even\n",
      "157 odd\n",
      "158 even\n",
      "159 odd\n",
      "160 even\n",
      "161 odd\n",
      "162 even\n",
      "163 odd\n",
      "164 even\n",
      "165 odd\n",
      "166 even\n",
      "167 odd\n",
      "168 even\n",
      "169 odd\n",
      "170 even\n",
      "171 odd\n",
      "172 even\n",
      "173 odd\n",
      "174 even\n",
      "175 odd\n",
      "176 even\n",
      "177 odd\n",
      "178 even\n",
      "179 odd\n",
      "180 even\n",
      "181 odd\n",
      "182 even\n",
      "183 odd\n",
      "184 even\n",
      "185 odd\n",
      "186 even\n",
      "187 odd\n",
      "188 even\n",
      "189 odd\n",
      "190 even\n",
      "191 odd\n",
      "192 even\n",
      "193 odd\n",
      "194 even\n",
      "195 odd\n",
      "196 even\n",
      "197 odd\n",
      "198 even\n",
      "199 odd\n",
      "200 even\n",
      "201 odd\n",
      "202 even\n",
      "203 odd\n",
      "204 even\n",
      "205 odd\n",
      "206 even\n",
      "207 odd\n",
      "208 even\n",
      "209 odd\n",
      "210 even\n",
      "211 odd\n",
      "212 even\n",
      "213 odd\n",
      "214 even\n",
      "215 odd\n",
      "216 even\n",
      "217 odd\n",
      "218 even\n",
      "219 odd\n",
      "220 even\n",
      "221 odd\n",
      "222 even\n",
      "223 odd\n",
      "224 even\n",
      "225 odd\n",
      "226 even\n",
      "227 odd\n",
      "228 even\n",
      "229 odd\n",
      "230 even\n",
      "231 odd\n",
      "232 even\n",
      "233 odd\n",
      "234 even\n",
      "235 odd\n",
      "236 even\n",
      "237 odd\n",
      "238 even\n",
      "239 odd\n",
      "240 even\n",
      "241 odd\n",
      "242 even\n",
      "243 odd\n",
      "244 even\n",
      "245 odd\n",
      "246 even\n",
      "247 odd\n",
      "248 even\n",
      "249 odd\n",
      "250 even\n",
      "251 odd\n",
      "252 even\n",
      "253 odd\n",
      "254 even\n",
      "255 odd\n",
      "256 even\n",
      "257 odd\n",
      "258 even\n",
      "259 odd\n",
      "260 even\n",
      "261 odd\n",
      "262 even\n",
      "263 odd\n",
      "264 even\n",
      "265 odd\n",
      "266 even\n",
      "267 odd\n",
      "268 even\n",
      "269 odd\n",
      "270 even\n",
      "271 odd\n",
      "272 even\n",
      "273 odd\n",
      "274 even\n",
      "275 odd\n",
      "276 even\n",
      "277 odd\n",
      "278 even\n",
      "279 odd\n",
      "280 even\n",
      "281 odd\n",
      "282 even\n",
      "283 odd\n",
      "284 even\n",
      "285 odd\n",
      "286 even\n",
      "287 odd\n",
      "288 even\n",
      "289 odd\n",
      "290 even\n",
      "291 odd\n",
      "292 even\n",
      "293 odd\n",
      "294 even\n",
      "295 odd\n",
      "296 even\n",
      "297 odd\n",
      "298 even\n",
      "299 odd\n",
      "300 even\n",
      "301 odd\n",
      "302 even\n",
      "303 odd\n",
      "304 even\n",
      "305 odd\n",
      "306 even\n",
      "307 odd\n",
      "308 even\n",
      "309 odd\n",
      "310 even\n",
      "311 odd\n",
      "312 even\n",
      "313 odd\n",
      "314 even\n",
      "315 odd\n",
      "316 even\n",
      "317 odd\n",
      "318 even\n",
      "319 odd\n",
      "320 even\n",
      "321 odd\n",
      "322 even\n",
      "323 odd\n",
      "324 even\n",
      "325 odd\n",
      "326 even\n",
      "327 odd\n",
      "328 even\n",
      "329 odd\n",
      "330 even\n",
      "331 odd\n",
      "332 even\n",
      "333 odd\n",
      "334 even\n",
      "335 odd\n",
      "336 even\n",
      "337 odd\n",
      "338 even\n",
      "339 odd\n",
      "340 even\n",
      "341 odd\n",
      "342 even\n",
      "343 odd\n",
      "344 even\n",
      "345 odd\n",
      "346 even\n",
      "347 odd\n",
      "348 even\n",
      "349 odd\n",
      "350 even\n",
      "351 odd\n",
      "352 even\n",
      "353 odd\n",
      "354 even\n",
      "355 odd\n",
      "356 even\n",
      "357 odd\n",
      "358 even\n",
      "359 odd\n",
      "360 even\n",
      "361 odd\n",
      "362 even\n",
      "363 odd\n",
      "364 even\n",
      "365 odd\n",
      "366 even\n",
      "367 odd\n",
      "368 even\n",
      "369 odd\n",
      "370 even\n",
      "371 odd\n",
      "372 even\n",
      "373 odd\n",
      "374 even\n",
      "375 odd\n",
      "376 even\n",
      "377 odd\n",
      "378 even\n",
      "379 odd\n",
      "380 even\n",
      "381 odd\n",
      "382 even\n",
      "383 odd\n",
      "384 even\n",
      "385 odd\n",
      "386 even\n",
      "387 odd\n",
      "388 even\n",
      "389 odd\n",
      "390 even\n",
      "391 odd\n",
      "392 even\n",
      "393 odd\n",
      "394 even\n",
      "395 odd\n",
      "396 even\n",
      "397 odd\n",
      "398 even\n",
      "399 odd\n",
      "400 even\n",
      "401 odd\n",
      "402 even\n",
      "403 odd\n",
      "404 even\n",
      "405 odd\n",
      "406 even\n",
      "407 odd\n",
      "408 even\n",
      "409 odd\n",
      "410 even\n",
      "411 odd\n",
      "412 even\n",
      "413 odd\n",
      "414 even\n",
      "415 odd\n",
      "416 even\n",
      "417 odd\n",
      "418 even\n",
      "419 odd\n",
      "420 even\n",
      "421 odd\n",
      "422 even\n",
      "423 odd\n",
      "424 even\n",
      "425 odd\n",
      "426 even\n",
      "427 odd\n",
      "428 even\n",
      "429 odd\n",
      "430 even\n",
      "431 odd\n",
      "432 even\n",
      "433 odd\n",
      "434 even\n",
      "435 odd\n",
      "436 even\n",
      "437 odd\n",
      "438 even\n",
      "439 odd\n",
      "440 even\n",
      "441 odd\n",
      "442 even\n",
      "443 odd\n",
      "444 even\n",
      "445 odd\n",
      "446 even\n",
      "447 odd\n",
      "448 even\n",
      "449 odd\n",
      "450 even\n",
      "451 odd\n",
      "452 even\n",
      "453 odd\n",
      "454 even\n",
      "455 odd\n",
      "456 even\n",
      "457 odd\n",
      "458 even\n",
      "459 odd\n",
      "460 even\n",
      "461 odd\n",
      "462 even\n",
      "463 odd\n",
      "464 even\n",
      "465 odd\n",
      "466 even\n",
      "467 odd\n",
      "468 even\n",
      "469 odd\n",
      "470 even\n",
      "471 odd\n",
      "472 even\n",
      "473 odd\n",
      "474 even\n",
      "475 odd\n",
      "476 even\n",
      "477 odd\n",
      "478 even\n",
      "479 odd\n",
      "480 even\n",
      "481 odd\n",
      "482 even\n",
      "483 odd\n",
      "484 even\n",
      "485 odd\n",
      "486 even\n",
      "487 odd\n",
      "488 even\n",
      "489 odd\n",
      "490 even\n",
      "491 odd\n",
      "492 even\n",
      "493 odd\n",
      "494 even\n",
      "495 odd\n",
      "496 even\n",
      "497 odd\n",
      "498 even\n",
      "499 odd\n",
      "500 even\n"
     ]
    }
   ],
   "source": [
    "# Display all numbers from 1 to 500.\n",
    "for i in range(501):\n",
    "    if i % 2 == 1:\n",
    "        print(i, \"odd\")\n",
    "    else:\n",
    "        print(i, \"even\")\n",
    "    \n",
    "    "
   ]
  },
  {
   "cell_type": "markdown",
   "id": "969e00f1",
   "metadata": {},
   "source": [
    "Display all multiples of 7 from 0 to 70"
   ]
  },
  {
   "cell_type": "code",
   "execution_count": 15,
   "id": "620b3886",
   "metadata": {
    "lines_to_next_cell": 0,
    "title": "[python]"
   },
   "outputs": [
    {
     "name": "stdout",
     "output_type": "stream",
     "text": [
      "[0, 7, 14, 21, 28, 35, 42, 49, 56, 63, 70, 77, 84, 91, 98, 105, 112, 119, 126, 133, 140, 147, 154, 161, 168, 175, 182, 189, 196, 203, 210, 217, 224, 231, 238, 245, 252, 259, 266, 273, 280, 287, 294, 301, 308, 315, 322, 329, 336, 343, 350, 357, 364, 371, 378, 385, 392, 399, 406, 413, 420, 427, 434, 441, 448, 455, 462, 469, 476, 483, 490, 497, 504, 511, 518, 525, 532, 539, 546, 553, 560, 567, 574, 581, 588, 595, 602, 609, 616, 623, 630, 637, 644, 651, 658, 665, 672, 679, 686, 693, 700, 707, 714, 721, 728, 735, 742, 749, 756, 763, 770, 777]\n"
     ]
    }
   ],
   "source": [
    "# Display all multiples of 7 from 0 to 777\n",
    "for i in range(1):\n",
    "    print(list(range(778))[::7])"
   ]
  },
  {
   "cell_type": "markdown",
   "id": "b468e701",
   "metadata": {
    "lines_to_next_cell": 0
   },
   "source": [
    "Print all the years you were alive and how old you were in each. e.g. \"in 1979, i was 2 years old.\" (for a really old person)  "
   ]
  },
  {
   "cell_type": "code",
   "execution_count": 29,
   "id": "6db862fd",
   "metadata": {
    "lines_to_next_cell": 0,
    "title": "[python]"
   },
   "outputs": [
    {
     "name": "stdout",
     "output_type": "stream",
     "text": [
      "In 2011 I was 0\n",
      "In 2012 I was 1\n",
      "In 2013 I was 2\n",
      "In 2014 I was 3\n",
      "In 2015 I was 4\n",
      "In 2016 I was 5\n",
      "In 2017 I was 6\n",
      "In 2018 I was 7\n",
      "In 2019 I was 8\n",
      "In 2020 I was 9\n",
      "In 2021 I was 10\n",
      "In 2022 I was 11\n",
      "In 2023 I was 12\n"
     ]
    }
   ],
   "source": [
    "# Your Code Here\n",
    "year = 2024\n",
    "age = 13\n",
    "for i in range(13):\n",
    "    print(f\"In {year-age} I was {(i)}\")\n",
    "    age-=1\n"
   ]
  },
  {
   "cell_type": "markdown",
   "id": "571b7e8d",
   "metadata": {
    "lines_to_next_cell": 0
   },
   "source": [
    "## Nested for-loops\n",
    "\n",
    "Write nested for loops (a for loop inside another for loop). Here is an example of nested loops. "
   ]
  },
  {
   "cell_type": "code",
   "execution_count": 1,
   "id": "beb062f6",
   "metadata": {
    "lines_to_next_cell": 0,
    "title": "[python]"
   },
   "outputs": [
    {
     "name": "stdout",
     "output_type": "stream",
     "text": [
      "(0,0) (0,1) (0,2) (0,3) (0,4) (0,5) (0,6) (0,7) \n",
      "(1,0) (1,1) (1,2) (1,3) (1,4) (1,5) (1,6) (1,7) \n",
      "(2,0) (2,1) (2,2) (2,3) (2,4) (2,5) (2,6) (2,7) \n",
      "(3,0) (3,1) (3,2) (3,3) (3,4) (3,5) (3,6) (3,7) \n",
      "(4,0) (4,1) (4,2) (4,3) (4,4) (4,5) (4,6) (4,7) \n",
      "(5,0) (5,1) (5,2) (5,3) (5,4) (5,5) (5,6) (5,7) \n",
      "(6,0) (6,1) (6,2) (6,3) (6,4) (6,5) (6,6) (6,7) \n",
      "(7,0) (7,1) (7,2) (7,3) (7,4) (7,5) (7,6) (7,7) \n"
     ]
    }
   ],
   "source": [
    "# Examples of Nested Loops\n",
    "\n",
    "for i in range(8):\n",
    "    for j in range(8):\n",
    "        print(f\"({i},{j})\", end= ' ')\n",
    "    print()"
   ]
  },
  {
   "cell_type": "markdown",
   "id": "3605a476",
   "metadata": {
    "lines_to_next_cell": 0
   },
   "source": [
    "For your first nested loop, display this output:  \n",
    "\n",
    "```\n",
    "0  0  \n",
    "0  1  \n",
    "0  2  \n",
    "1  0  \n",
    "1  1  \n",
    "1  2  \n",
    "2  0  \n",
    "2  1  \n",
    "2  2\n",
    "```"
   ]
  },
  {
   "cell_type": "code",
   "execution_count": 3,
   "id": "8c847ed3",
   "metadata": {
    "lines_to_next_cell": 0,
    "title": "[python]"
   },
   "outputs": [
    {
     "name": "stdout",
     "output_type": "stream",
     "text": [
      "I: 0 W: 0\n",
      "I: 0 W: 1\n",
      "I: 0 W: 2\n",
      "I: 1 W: 0\n",
      "I: 1 W: 1\n",
      "I: 1 W: 2\n",
      "I: 2 W: 0\n",
      "I: 2 W: 1\n",
      "I: 2 W: 2\n"
     ]
    }
   ],
   "source": [
    "for i in range(3):\n",
    "    for w in range(3):\n",
    "        print(f\"I: {i} W: {w}\")"
   ]
  },
  {
   "cell_type": "markdown",
   "id": "c6a9c592",
   "metadata": {
    "lines_to_next_cell": 0
   },
   "source": [
    "Display the numbers 1 through 9 in a 3x3 square grid like this:  \n",
    "\n",
    "```\n",
    "1  2  3  \n",
    "4  5  6  \n",
    "7  8  9  \n",
    "```"
   ]
  },
  {
   "cell_type": "code",
   "execution_count": 8,
   "id": "bb0a4a5b",
   "metadata": {
    "lines_to_next_cell": 0,
    "title": "[python]"
   },
   "outputs": [
    {
     "name": "stdout",
     "output_type": "stream",
     "text": [
      "1 2 3 \n",
      "4 5 6 \n",
      "7 8 9 \n"
     ]
    }
   ],
   "source": [
    "num = 0\n",
    "for x in range(3):\n",
    "    for i in range(3):\n",
    "      num+=1   \n",
    "      print(num, end = \" \")\n",
    "    print()"
   ]
  },
  {
   "cell_type": "markdown",
   "id": "3265fddb",
   "metadata": {
    "lines_to_next_cell": 0
   },
   "source": [
    "Display the numbers 1 through 100 in a 10x10 square grid.  "
   ]
  },
  {
   "cell_type": "code",
   "execution_count": 1,
   "id": "ced82638",
   "metadata": {
    "lines_to_next_cell": 0,
    "title": "[python]"
   },
   "outputs": [
    {
     "name": "stdout",
     "output_type": "stream",
     "text": [
      "1 2 3 4 5 6 7 8 9 10 \n",
      "11 12 13 14 15 16 17 18 19 20 \n",
      "21 22 23 24 25 26 27 28 29 30 \n",
      "31 32 33 34 35 36 37 38 39 40 \n",
      "41 42 43 44 45 46 47 48 49 50 \n",
      "51 52 53 54 55 56 57 58 59 60 \n",
      "61 62 63 64 65 66 67 68 69 70 \n",
      "71 72 73 74 75 76 77 78 79 80 \n",
      "81 82 83 84 85 86 87 88 89 90 \n",
      "91 92 93 94 95 96 97 98 99 100 \n"
     ]
    }
   ],
   "source": [
    "num = 0\n",
    "for i in range(10):\n",
    "    for x in range(10):\n",
    "        num+=1\n",
    "        print(num, end=\" \")\n",
    "    print()\n"
   ]
  },
  {
   "cell_type": "markdown",
   "id": "9434b500",
   "metadata": {
    "lines_to_next_cell": 2
   },
   "source": [
    "Display the following output:  \n",
    "\n",
    "```\n",
    "*  \n",
    "*  *  \n",
    "*  *  *  \n",
    "*  *  *  *  \n",
    "*  *  *  *  *  \n",
    "*  *  *  *  *  *\n",
    "```  "
   ]
  },
  {
   "cell_type": "code",
   "execution_count": 38,
   "id": "3b81fd1e",
   "metadata": {},
   "outputs": [
    {
     "name": "stdout",
     "output_type": "stream",
     "text": [
      "\n",
      "*\n",
      "**\n",
      "***\n",
      "****\n",
      "*****\n",
      "******\n"
     ]
    }
   ],
   "source": [
    "\n",
    "for i in range(7):\n",
    "    print(\"*\"*i)\n",
    "    \n",
    "    \n",
    "    \n",
    "\n",
    "    "
   ]
  },
  {
   "cell_type": "markdown",
   "id": "5a40192d",
   "metadata": {},
   "source": []
  }
 ],
 "metadata": {
  "jupytext": {
   "cell_metadata_filter": "title,-all",
   "main_language": "python",
   "notebook_metadata_filter": "-all"
  },
  "kernelspec": {
   "display_name": "Python 3",
   "language": "python",
   "name": "python3"
  },
  "language_info": {
   "codemirror_mode": {
    "name": "ipython",
    "version": 3
   },
   "file_extension": ".py",
   "mimetype": "text/x-python",
   "name": "python",
   "nbconvert_exporter": "python",
   "pygments_lexer": "ipython3",
   "version": "3.12.4"
  }
 },
 "nbformat": 4,
 "nbformat_minor": 5
}
