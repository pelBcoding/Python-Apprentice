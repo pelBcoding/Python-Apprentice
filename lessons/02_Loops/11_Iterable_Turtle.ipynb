{
 "cells": [
  {
   "cell_type": "code",
   "execution_count": 29,
   "metadata": {},
   "outputs": [],
   "source": [
    "\"\"\"\n",
    "Programmable turtle graphics\n",
    "\n",
    "Use what you've learned about lists, loop, cycle, slice and zip to draw a pattern\n",
    "\n",
    "\"\"\"\n",
    "import turtle                           # Tell Python we want to work with the turtle\n",
    "\n",
    "t =  turtle.Turtle()  # Create a turtle like in previous programs, like 04_Crazy_Tina.py\n",
    "t.speed(200)\n",
    "colors = [\"blue\" , \"green\" , \"red\" , \"purple\" , \"black\"] # Make a list of colors\n",
    "\n",
    "directions = [ 90 , 32 ,70, 87, 25, 90 ]  \n",
    "\n",
    "# Zip the colors and directions together, then unpack them. There is a good example of this\n",
    "# in 10_More_iterables.ipynb in the discussion of zip()\n",
    "for i in range(200):\n",
    "    for color, direction in zip( colors , directions):\n",
    "        t.pencolor( color )\n",
    "        t.forward( direction )\n",
    "        t.left( direction )\n",
    "\n",
    "\n",
    "# Don't forget the special way to end a turtle program. \n",
    "turtle.exitonclick()"
   ]
  },
  {
   "cell_type": "markdown",
   "metadata": {},
   "source": []
  }
 ],
 "metadata": {
  "kernelspec": {
   "display_name": "Python 3",
   "language": "python",
   "name": "python3"
  },
  "language_info": {
   "codemirror_mode": {
    "name": "ipython",
    "version": 3
   },
   "file_extension": ".py",
   "mimetype": "text/x-python",
   "name": "python",
   "nbconvert_exporter": "python",
   "pygments_lexer": "ipython3",
   "version": "3.12.4"
  }
 },
 "nbformat": 4,
 "nbformat_minor": 2
}
